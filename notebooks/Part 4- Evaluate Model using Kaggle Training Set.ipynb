{
 "cells": [
  {
   "cell_type": "markdown",
   "metadata": {},
   "source": [
    "\n",
    "## Applying Sentiment analysis to movie review data posted on Kaggle.\n",
    "\n",
    "https://www.kaggle.com/c/sentiment-analysis-on-movie-reviews/data"
   ]
  },
  {
   "cell_type": "markdown",
   "metadata": {},
   "source": [
    "### Process unclassified phrases using saved Sentiment module and trained data\n",
    "\n",
    "\n",
    "## Part 4- Evaluate Model using Kaggle Training Set\n",
    "__Summary__:  \n",
    "\n",
    "The accuracy is number of times the model correctly predictes the sentiment on new phrases. This is a supervised learning exercise. Given that the Kaggle data has a 0-4 scale, any review labeled 2 would be neither postive nor negative.  For the purpose of our binary classification, the prediction is either positive or negative.  Excluding any neutral reviews, 6,874 labeled phrases are available to measure for our model.  100% of the trained data is used to test the accuracy of the model.  Only the top 5,000 features for all 6,874 phrases are used to train the model. Post the removal of neutral labels, the base prediction is 52.40% for positive reviews. Overfitting is a risk given this is supervised learning and we are testing our model against the training set.\n",
    "\n",
    "## Does the model work?  \n",
    "Our movie sentiment analysis yielded 68% accuracy on the training set, which is 16.25% more accurate than null accuracy of 52%.  The model has a much higher precision for predicting positive(94%) reviews vs negative(60%) while having a higher F-1 score for negative predictions(75 vs 58). Overall I would be more confident in predicting negative reviews than positive reviews, which may reflect the sarcasm that could me more easily mis-interpred by POS selected for the model.\n",
    "\n",
    "\n",
    "1.  Create a processed phrase table for the training set in Postgres DB.\n",
    "2.  Evaluate the model using Sklearn metrics classification and confusion matrix.\n",
    "\n",
    "#### References\n",
    ">[binary classification](https://en.wikipedia.org/wiki/Binary_classification)\n",
    "\n",
    ">[confusion matrix](https://en.wikipedia.org/wiki/Confusion_matrix)\n",
    "\n",
    ">[precision, recall and f measures](https://en.wikipedia.org/wiki/Precision_and_recall)\n",
    "\n",
    ">[Python 3 Text Processing with NLTK 3 Cookbook](https://www.amazon.com/Python-Text-Processing-NLTK-Cookbook-ebook/dp/B00N2RWMJU/ref=sr_1_2?ie=UTF8&qid=1547992672&sr=8-2&keywords=nltk)\n",
    "\n",
    ">[Tokenizing Words and Sentences with NLTK](https://pythonprogramming.net/tokenizing-words-sentences-nltk-tutorial/)\n",
    "<img src=\"confusionmatrix.png\">, \n",
    "---"
   ]
  },
  {
   "cell_type": "code",
   "execution_count": 1,
   "metadata": {},
   "outputs": [],
   "source": [
    "#!/usr/local/bin/python3.6\n",
    "#import logging\n",
    "import os\n",
    "import pyodbc\n",
    "import psycopg2\n",
    "import psycopg2.extras\n",
    "import numpy as np\n",
    "#import pandas as pd\n",
    "#import pandas.io.sql as psql\n",
    "from sqlalchemy import create_engine"
   ]
  },
  {
   "cell_type": "code",
   "execution_count": 2,
   "metadata": {},
   "outputs": [],
   "source": [
    "#postgres authentication\n",
    "user = \"alexp\"\n",
    "password = \"secret\"\n",
    "host = \"pg_db\"\n",
    "port = \"5432\"\n",
    "database = \"priv_workspace\""
   ]
  },
  {
   "cell_type": "code",
   "execution_count": 3,
   "metadata": {},
   "outputs": [
    {
     "name": "stdout",
     "output_type": "stream",
     "text": [
      "{'user': 'alexp', 'dbname': 'priv_workspace', 'host': 'pg_db', 'port': '5432', 'tty': '', 'options': '', 'sslmode': 'prefer', 'sslcompression': '1', 'krbsrvname': 'postgres'} \n",
      "\n",
      "You are connected to -  ('PostgreSQL 10.5 (Debian 10.5-1.pgdg90+1) on x86_64-pc-linux-gnu, compiled by gcc (Debian 6.3.0-18+deb9u1) 6.3.0 20170516, 64-bit',) \n",
      "\n",
      "PostgreSQL connection is closed\n"
     ]
    }
   ],
   "source": [
    "#view pg environment\n",
    "try:\n",
    "    connection = psycopg2.connect(user = user,\n",
    "                                  password = password,\n",
    "                                  host = host,\n",
    "                                  port = port,\n",
    "                                  database = database)\n",
    "    cursor = connection.cursor()\n",
    "    # Print PostgreSQL Connection properties\n",
    "    print ( connection.get_dsn_parameters(),\"\\n\")\n",
    "    # Print PostgreSQL version\n",
    "    cursor.execute(\"SELECT version();\")\n",
    "    record = cursor.fetchone()\n",
    "    print(\"You are connected to - \", record,\"\\n\")\n",
    "except (Exception, psycopg2.Error) as error :\n",
    "    print (\"Error while connecting to PostgreSQL\", error)\n",
    "finally:\n",
    "    #closing database connection.\n",
    "        if(connection):\n",
    "            cursor.close()\n",
    "            connection.close()\n",
    "            print(\"PostgreSQL connection is closed\")"
   ]
  },
  {
   "cell_type": "markdown",
   "metadata": {},
   "source": [
    "#### 1.  Create a processed phrase table for the training set in Postgres DB."
   ]
  },
  {
   "cell_type": "code",
   "execution_count": 7,
   "metadata": {},
   "outputs": [],
   "source": [
    "###create processedPhrasesTable table\n",
    "processedPhrasesTable = '''CREATE TABLE IF NOT EXISTS \"processed_phrases_train\"(\n",
    "    \"phraseid\" INTEGER REFERENCES sent_movie_train(phraseid), \"sentenceid\" INTEGER, \n",
    " \"rowno\" INT,\"sentiment\" TEXT, \"sent_score\" NUMERIC (5,2)\n",
    ");'''"
   ]
  },
  {
   "cell_type": "code",
   "execution_count": 9,
   "metadata": {},
   "outputs": [
    {
     "name": "stdout",
     "output_type": "stream",
     "text": [
      "retrieved total documents  8529\n",
      "inserted  8529  rows into processed_phrases table\n",
      "PostgreSQL connection is closed\n"
     ]
    }
   ],
   "source": [
    "import sentiment_mod as s\n",
    "#score phrases for sentiment and write to pg db\n",
    "from psycopg2 import Error\n",
    "from psycopg2.extensions import ISOLATION_LEVEL_AUTOCOMMIT\n",
    "\n",
    "try:\n",
    "    connection = psycopg2.connect(user = user,\n",
    "                                  password = password,\n",
    "                                  host = host,\n",
    "                                  port = port,\n",
    "                                  database = database)\n",
    "    cursor = connection.cursor()\n",
    "    connection.set_isolation_level(ISOLATION_LEVEL_AUTOCOMMIT)\n",
    "    engine_string = \"postgresql://{}:{}@{}:{}/{}\".format(user, password, host, port, database)\n",
    "    engine = create_engine(engine_string)\n",
    "\n",
    "    #create processed train table if doesnt already exist\n",
    "    cursor.execute(processedPhrasesTable)\n",
    "    \n",
    "    #get total documents to be processed \n",
    "    sql1 = '''SELECT COUNT(*) FROM \"sent_train_tble\"'''\n",
    "    cursor.execute(sql1)\n",
    "    fetch = cursor.fetchall()\n",
    "    totalDocuments = fetch[0][0]\n",
    "    print('retrieved total documents ', fetch[0][0])\n",
    "    \n",
    "    \n",
    "    for i in range(totalDocuments):\n",
    "        row = i +1\n",
    "        processRow = '''select * from (SELECT a.phraseid, a.sentenceid, a.phrase, \n",
    "        row_number() over (order by phrase)\n",
    "        FROM \"sent_train_tble\" a ) b \n",
    "        where b.row_number = '{}' '''.format(row)\n",
    "        #print(processRow)\n",
    "        cursor.execute(processRow)\n",
    "        fetch = cursor.fetchall()\n",
    "        sentiment = s.sentiment(fetch[0][2])\n",
    "        \n",
    "\n",
    "        processedPhrase = fetch[0][0:1] + fetch[0][1:2] + fetch[0][3:4] + sentiment\n",
    "        sql='''insert into processed_phrases_train values({}, {}, {}, '{}', {})'''.format(processedPhrase[0], processedPhrase[1],\n",
    "                                                            processedPhrase[2], processedPhrase[3],\n",
    "                                                              processedPhrase[4])\n",
    "        #insert processed documents\n",
    "        cursor.execute(sql)\n",
    "        #print('inserted row')\n",
    "    print('inserted ', row,  ' rows into processed_phrases_train table')\n",
    "    \n",
    "\n",
    "\n",
    "except (Exception, psycopg2.DatabaseError) as error :\n",
    "    print (\"Error while creating PostgreSQL table\", error)\n",
    "finally:\n",
    "    #closing database connection.\n",
    "        if(connection):\n",
    "            cursor.close()\n",
    "            connection.close()\n",
    "            print(\"PostgreSQL connection is closed\")"
   ]
  },
  {
   "cell_type": "code",
   "execution_count": 11,
   "metadata": {},
   "outputs": [
    {
     "name": "stdout",
     "output_type": "stream",
     "text": [
      "created pandas dataframe \n",
      "PostgreSQL connection is closed\n"
     ]
    }
   ],
   "source": [
    "import pandas as pd\n",
    "#score phrases for sentiment and write to pg db\n",
    "from psycopg2 import Error\n",
    "from psycopg2.extensions import ISOLATION_LEVEL_AUTOCOMMIT\n",
    "\n",
    "try:\n",
    "    connection = psycopg2.connect(user = user,\n",
    "                                  password = password,\n",
    "                                  host = host,\n",
    "                                  port = port,\n",
    "                                  database = database)\n",
    "    cursor = connection.cursor()\n",
    "    connection.set_isolation_level(ISOLATION_LEVEL_AUTOCOMMIT)\n",
    "    engine_string = \"postgresql://{}:{}@{}:{}/{}\".format(user, password, host, port, database)\n",
    "    engine = create_engine(engine_string)\n",
    "\n",
    "    \n",
    "    #get predicted verse actual results \n",
    "    sql = '''SELECT a.phraseid, a.sentiment, a.sent_score, \n",
    "    CASE WHEN b.sentiment < 2 THEN 0 \n",
    "    WHEN b.sentiment > 2 THEN 1\n",
    "    ELSE NULL END actual,\n",
    "    CASE WHEN a.sentiment = 'neg' THEN 0 \n",
    "    WHEN a.sentiment = 'pos' THEN 1\n",
    "    ELSE NULL END predicted\n",
    "    FROM \"processed_phrases_train\" a\n",
    "    LEFT JOIN sent_train_tble b on a.phraseid=b.phraseid'''\n",
    "    df = pd.read_sql_query(sql,con=engine)\n",
    "    print('created pandas dataframe ')\n",
    "    \n",
    "\n",
    "\n",
    "except (Exception, psycopg2.DatabaseError) as error :\n",
    "    print(\"Error while creating PostgreSQL table\", error)\n",
    "finally:\n",
    "    #closing database connection.\n",
    "        if(connection):\n",
    "            cursor.close()\n",
    "            connection.close()\n",
    "            print(\"PostgreSQL connection is closed\")"
   ]
  },
  {
   "cell_type": "code",
   "execution_count": 13,
   "metadata": {},
   "outputs": [
    {
     "data": {
      "text/plain": [
       "(8529, 5)"
      ]
     },
     "execution_count": 13,
     "metadata": {},
     "output_type": "execute_result"
    }
   ],
   "source": [
    "df.shape"
   ]
  },
  {
   "cell_type": "code",
   "execution_count": 107,
   "metadata": {},
   "outputs": [],
   "source": [
    "#remove values where kaggle provided training set had a score of 2 in range of 0-4 meaning neutral\n",
    "dfEval = df.dropna()"
   ]
  },
  {
   "cell_type": "code",
   "execution_count": 113,
   "metadata": {},
   "outputs": [
    {
     "data": {
      "text/plain": [
       "(6874, 5)"
      ]
     },
     "execution_count": 113,
     "metadata": {},
     "output_type": "execute_result"
    }
   ],
   "source": [
    "dfEval.shape"
   ]
  },
  {
   "cell_type": "code",
   "execution_count": 130,
   "metadata": {},
   "outputs": [
    {
     "data": {
      "text/html": [
       "<div>\n",
       "<style scoped>\n",
       "    .dataframe tbody tr th:only-of-type {\n",
       "        vertical-align: middle;\n",
       "    }\n",
       "\n",
       "    .dataframe tbody tr th {\n",
       "        vertical-align: top;\n",
       "    }\n",
       "\n",
       "    .dataframe thead th {\n",
       "        text-align: right;\n",
       "    }\n",
       "</style>\n",
       "<table border=\"1\" class=\"dataframe\">\n",
       "  <thead>\n",
       "    <tr style=\"text-align: right;\">\n",
       "      <th></th>\n",
       "      <th>phraseid</th>\n",
       "      <th>sentiment</th>\n",
       "      <th>sent_score</th>\n",
       "      <th>actual</th>\n",
       "      <th>predicted</th>\n",
       "    </tr>\n",
       "  </thead>\n",
       "  <tbody>\n",
       "    <tr>\n",
       "      <th>0</th>\n",
       "      <td>1</td>\n",
       "      <td>neg</td>\n",
       "      <td>1.0</td>\n",
       "      <td>0.0</td>\n",
       "      <td>0</td>\n",
       "    </tr>\n",
       "    <tr>\n",
       "      <th>1</th>\n",
       "      <td>64</td>\n",
       "      <td>pos</td>\n",
       "      <td>1.0</td>\n",
       "      <td>1.0</td>\n",
       "      <td>1</td>\n",
       "    </tr>\n",
       "    <tr>\n",
       "      <th>2</th>\n",
       "      <td>82</td>\n",
       "      <td>neg</td>\n",
       "      <td>1.0</td>\n",
       "      <td>0.0</td>\n",
       "      <td>0</td>\n",
       "    </tr>\n",
       "    <tr>\n",
       "      <th>3</th>\n",
       "      <td>117</td>\n",
       "      <td>neg</td>\n",
       "      <td>0.6</td>\n",
       "      <td>1.0</td>\n",
       "      <td>0</td>\n",
       "    </tr>\n",
       "    <tr>\n",
       "      <th>4</th>\n",
       "      <td>157</td>\n",
       "      <td>neg</td>\n",
       "      <td>1.0</td>\n",
       "      <td>0.0</td>\n",
       "      <td>0</td>\n",
       "    </tr>\n",
       "  </tbody>\n",
       "</table>\n",
       "</div>"
      ],
      "text/plain": [
       "   phraseid sentiment  sent_score  actual  predicted\n",
       "0         1       neg         1.0     0.0          0\n",
       "1        64       pos         1.0     1.0          1\n",
       "2        82       neg         1.0     0.0          0\n",
       "3       117       neg         0.6     1.0          0\n",
       "4       157       neg         1.0     0.0          0"
      ]
     },
     "execution_count": 130,
     "metadata": {},
     "output_type": "execute_result"
    }
   ],
   "source": [
    "dfEval.head()"
   ]
  },
  {
   "cell_type": "code",
   "execution_count": 135,
   "metadata": {},
   "outputs": [
    {
     "data": {
      "text/html": [
       "<div>\n",
       "<style scoped>\n",
       "    .dataframe tbody tr th:only-of-type {\n",
       "        vertical-align: middle;\n",
       "    }\n",
       "\n",
       "    .dataframe tbody tr th {\n",
       "        vertical-align: top;\n",
       "    }\n",
       "\n",
       "    .dataframe thead th {\n",
       "        text-align: right;\n",
       "    }\n",
       "</style>\n",
       "<table border=\"1\" class=\"dataframe\">\n",
       "  <thead>\n",
       "    <tr style=\"text-align: right;\">\n",
       "      <th></th>\n",
       "      <th>phraseid</th>\n",
       "      <th>sent_score</th>\n",
       "      <th>actual</th>\n",
       "      <th>predicted</th>\n",
       "    </tr>\n",
       "  </thead>\n",
       "  <tbody>\n",
       "    <tr>\n",
       "      <th>count</th>\n",
       "      <td>6874.000000</td>\n",
       "      <td>6874.000000</td>\n",
       "      <td>6874.000000</td>\n",
       "      <td>6874.000000</td>\n",
       "    </tr>\n",
       "    <tr>\n",
       "      <th>mean</th>\n",
       "      <td>81557.343759</td>\n",
       "      <td>0.953331</td>\n",
       "      <td>0.524003</td>\n",
       "      <td>0.231743</td>\n",
       "    </tr>\n",
       "    <tr>\n",
       "      <th>std</th>\n",
       "      <td>44255.796561</td>\n",
       "      <td>0.113403</td>\n",
       "      <td>0.499460</td>\n",
       "      <td>0.421976</td>\n",
       "    </tr>\n",
       "    <tr>\n",
       "      <th>min</th>\n",
       "      <td>1.000000</td>\n",
       "      <td>0.600000</td>\n",
       "      <td>0.000000</td>\n",
       "      <td>0.000000</td>\n",
       "    </tr>\n",
       "    <tr>\n",
       "      <th>25%</th>\n",
       "      <td>44167.000000</td>\n",
       "      <td>1.000000</td>\n",
       "      <td>0.000000</td>\n",
       "      <td>0.000000</td>\n",
       "    </tr>\n",
       "    <tr>\n",
       "      <th>50%</th>\n",
       "      <td>82664.000000</td>\n",
       "      <td>1.000000</td>\n",
       "      <td>1.000000</td>\n",
       "      <td>0.000000</td>\n",
       "    </tr>\n",
       "    <tr>\n",
       "      <th>75%</th>\n",
       "      <td>119954.750000</td>\n",
       "      <td>1.000000</td>\n",
       "      <td>1.000000</td>\n",
       "      <td>0.000000</td>\n",
       "    </tr>\n",
       "    <tr>\n",
       "      <th>max</th>\n",
       "      <td>156032.000000</td>\n",
       "      <td>1.000000</td>\n",
       "      <td>1.000000</td>\n",
       "      <td>1.000000</td>\n",
       "    </tr>\n",
       "  </tbody>\n",
       "</table>\n",
       "</div>"
      ],
      "text/plain": [
       "            phraseid   sent_score       actual    predicted\n",
       "count    6874.000000  6874.000000  6874.000000  6874.000000\n",
       "mean    81557.343759     0.953331     0.524003     0.231743\n",
       "std     44255.796561     0.113403     0.499460     0.421976\n",
       "min         1.000000     0.600000     0.000000     0.000000\n",
       "25%     44167.000000     1.000000     0.000000     0.000000\n",
       "50%     82664.000000     1.000000     1.000000     0.000000\n",
       "75%    119954.750000     1.000000     1.000000     0.000000\n",
       "max    156032.000000     1.000000     1.000000     1.000000"
      ]
     },
     "execution_count": 135,
     "metadata": {},
     "output_type": "execute_result"
    }
   ],
   "source": [
    "dfEval.describe()"
   ]
  },
  {
   "cell_type": "markdown",
   "metadata": {},
   "source": [
    "#### 2.  Evaluate the model using Sklearn metrics classification and confusion matrix."
   ]
  },
  {
   "cell_type": "code",
   "execution_count": 141,
   "metadata": {},
   "outputs": [],
   "source": [
    "y_pred = [0 if n == 0 else 1 for n in dfEval['predicted']]\n",
    "y_actual = [0 if n == 0 else 1 for n in dfEval['actual']]"
   ]
  },
  {
   "cell_type": "code",
   "execution_count": 115,
   "metadata": {},
   "outputs": [
    {
     "name": "stdout",
     "output_type": "stream",
     "text": [
      "Train set without \"neutral sentiment\" has total 6874 entries with 47.60% negative and 52.40% postive\n"
     ]
    }
   ],
   "source": [
    "print('''Train set without \"neutral sentiment\" has total {0} entries with {1:.2f}% negative and {2:.2f}% postive'''.format(len(dfEval['predicted']),\n",
    "                    len(dfEval[dfEval['actual'] ==0.0])/ len(dfEval['actual'])*100,\n",
    "                    len(dfEval[dfEval['actual'] ==1.0])/ len(dfEval['actual'])*100\n",
    "                   ))\n",
    "                                                                      "
   ]
  },
  {
   "cell_type": "code",
   "execution_count": 156,
   "metadata": {},
   "outputs": [
    {
     "name": "stdout",
     "output_type": "stream",
     "text": [
      "Accuracy Score: 68.45%\n",
      "--------------------------------------------------------------------------------\n",
      "Confusion Matrix\n",
      "\n",
      "          predicted_positive  predicted_negative\n",
      "positive                1513                2089\n",
      "negative                  80                3192\n",
      "--------------------------------------------------------------------------------\n",
      "Classification Report\n",
      "\n",
      "             precision    recall  f1-score   support\n",
      "\n",
      "  class neg       0.60      0.98      0.75      3272\n",
      "  class pos       0.95      0.42      0.58      3602\n",
      "\n",
      "avg / total       0.79      0.68      0.66      6874\n",
      "\n"
     ]
    }
   ],
   "source": [
    "from sklearn.metrics import accuracy_score\n",
    "from sklearn.metrics import classification_report, confusion_matrix\n",
    "\n",
    "#https://scikit-learn.org/stable/modules/generated/sklearn.metrics.classification_report.html\n",
    "\n",
    "conmat = np.array(confusion_matrix(y_actual, y_pred, labels=[1,0]))\n",
    "\n",
    "confusion = pd.DataFrame(conmat, index=['positive', 'negative'],\n",
    "                         columns=['predicted_positive','predicted_negative'])\n",
    "\n",
    "print(\"Accuracy Score: {0:.2f}%\".format(accuracy_score(y_actual, y_pred)*100))\n",
    "\n",
    "print(\"-\"*80)\n",
    "\n",
    "print(\"Confusion Matrix\\n\")\n",
    "print(confusion)\n",
    "print(\"-\"*80)\n",
    "print(\"Classification Report\\n\")\n",
    "target_names = ['class neg', 'class pos']\n",
    "print(classification_report(y_actual, y_pred, target_names=target_names))"
   ]
  },
  {
   "cell_type": "code",
   "execution_count": 166,
   "metadata": {},
   "outputs": [
    {
     "name": "stdout",
     "output_type": "stream",
     "text": [
      "total reviews  6874\n",
      "actual postive reviews 3602 positive precision 0.9497802887633396 \n",
      "\n",
      "actual postive reviews 3602 positive recall 0.42004441976679624 \n",
      "\n",
      "\n",
      "actual negative reviews 3272 negative precision 0.6044309789812535 \n",
      "\n",
      "actual postive reviews 3272 negative recall 0.9755501222493888 \n",
      "\n"
     ]
    }
   ],
   "source": [
    "### better understand how measures are formed.\n",
    "print(\"total reviews \", 3602 +3272)\n",
    "print(\"actual postive reviews\", 3602, \"positive precision\", 1513/(1513+80), '\\n')\n",
    "print(\"actual postive reviews\", 3602, \"positive recall\", 1513/(1513+2089), '\\n\\n')\n",
    "\n",
    "\n",
    "print(\"actual negative reviews\", 3272, \"negative precision\", 3192/(5281), '\\n')\n",
    "print(\"actual postive reviews\", 3272, \"negative recall\", 3192/(3192+80), '\\n')"
   ]
  }
 ],
 "metadata": {
  "kernelspec": {
   "display_name": "Python 3",
   "language": "python",
   "name": "python3"
  },
  "language_info": {
   "codemirror_mode": {
    "name": "ipython",
    "version": 3
   },
   "file_extension": ".py",
   "mimetype": "text/x-python",
   "name": "python",
   "nbconvert_exporter": "python",
   "pygments_lexer": "ipython3",
   "version": "3.6.3"
  }
 },
 "nbformat": 4,
 "nbformat_minor": 2
}
