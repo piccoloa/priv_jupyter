{
 "cells": [
  {
   "cell_type": "markdown",
   "metadata": {},
   "source": [
    "\n",
    "\n",
    "## Applying Sentiment analysis to movie review using Kaggle labeled dataset.\n",
    "\n",
    "https://www.kaggle.com/c/sentiment-analysis-on-movie-reviews/data"
   ]
  },
  {
   "cell_type": "markdown",
   "metadata": {},
   "source": [
    "### Sentiment model classification based on labled Kaggle dataset  \n",
    "\n",
    "\n",
    "## Part 2-Create, Test & Save Sentiment Model\n",
    "__Summary__:  \n",
    "\n",
    "\n",
    "Create a sentiment analysis algorithm using labeled kaggle movie reviews.  Part 1 cleaned and saved reviews to a database. This post adjusts the Kaggle dataset to comply with a binary classification, in which the target variable only has two classes to be predicted. For this post, the classes are either “negative” or “positive”. Labeled reviews are marked as either a __positive__(> 3) or __negative__(<3) movie review. The Kaggle dataset reviews are labeled as 0 - 4 (neg - pos) based on the training set.  \n",
    "In short, the NLTK library is used to extract POS (parts-of-speech- adjectives) from reviews to use as __features__ for each movie review. These featuresets are then used to train the sentiment models.  The feature sets associated with the labeled reviews are measured against a bag-of-words to calculate the likelihood of the review being categorized as a positive or negative sentiment.  \n",
    "\n",
    "Combining classifier algorithms is a common technique, done by creating a sort of voting system, where each algorithm gets one vote, and the classification that has the most votes is the chosen one.  In NLTK, classifiers are defined using classes that implement the ClassifyI interface. A processing interface for labeling tokens with a single category label (or \"class\"). Labels are typically strings or integers, but can be any immutable type. The set of labels that the classifier chooses from must be fixed and finite.\n",
    "\n",
    "\n",
    "\n",
    "\n",
    "1.  Create two tables, one for negative reviews and one for positive reviews. \n",
    "2.  Use NLTK to tokenize phrases, create featuresets, and test Scikitlearn classificaion models.   \n",
    "---\n",
    "\n"
   ]
  },
  {
   "cell_type": "code",
   "execution_count": 1,
   "metadata": {},
   "outputs": [],
   "source": [
    "#!/usr/local/bin/python3.6\n",
    "#import logging\n",
    "import os\n",
    "import pyodbc\n",
    "import psycopg2\n",
    "import psycopg2.extras\n",
    "import numpy as np\n",
    "import pandas as pd\n",
    "import pandas.io.sql as psql\n",
    "from sqlalchemy import create_engine"
   ]
  },
  {
   "cell_type": "code",
   "execution_count": 2,
   "metadata": {},
   "outputs": [],
   "source": [
    "#postgres authentication\n",
    "user = \"alexp\"\n",
    "password = \"secret\"\n",
    "host = \"pg_db\"\n",
    "port = \"5432\"\n",
    "database = \"priv_workspace\""
   ]
  },
  {
   "cell_type": "code",
   "execution_count": 3,
   "metadata": {},
   "outputs": [
    {
     "name": "stdout",
     "output_type": "stream",
     "text": [
      "{'user': 'alexp', 'dbname': 'priv_workspace', 'host': 'pg_db', 'port': '5432', 'tty': '', 'options': '', 'sslmode': 'prefer', 'sslcompression': '1', 'krbsrvname': 'postgres'} \n",
      "\n",
      "You are connected to -  ('PostgreSQL 10.5 (Debian 10.5-1.pgdg90+1) on x86_64-pc-linux-gnu, compiled by gcc (Debian 6.3.0-18+deb9u1) 6.3.0 20170516, 64-bit',) \n",
      "\n",
      "PostgreSQL connection is closed\n"
     ]
    }
   ],
   "source": [
    "#view pg environment\n",
    "try:\n",
    "    connection = psycopg2.connect(user = user,\n",
    "                                  password = password,\n",
    "                                  host = host,\n",
    "                                  port = port,\n",
    "                                  database = database)\n",
    "    cursor = connection.cursor()\n",
    "    # Print PostgreSQL Connection properties\n",
    "    print ( connection.get_dsn_parameters(),\"\\n\")\n",
    "    # Print PostgreSQL version\n",
    "    cursor.execute(\"SELECT version();\")\n",
    "    record = cursor.fetchone()\n",
    "    print(\"You are connected to - \", record,\"\\n\")\n",
    "except (Exception, psycopg2.Error) as error :\n",
    "    print (\"Error while connecting to PostgreSQL\", error)\n",
    "finally:\n",
    "    #closing database connection.\n",
    "        if(connection):\n",
    "            cursor.close()\n",
    "            connection.close()\n",
    "            print(\"PostgreSQL connection is closed\")"
   ]
  },
  {
   "cell_type": "markdown",
   "metadata": {},
   "source": [
    "#### 1.  Create two tables, one for negative reviews and one for positive reviews."
   ]
  },
  {
   "cell_type": "code",
   "execution_count": 4,
   "metadata": {},
   "outputs": [],
   "source": [
    "#create table of full sentences \n",
    "sql1 = '''\n",
    "SELECT phrase\n",
    "FROM \"sent_train_tble\"\n",
    "where sentiment < 2\n",
    "'''\n",
    "sql2 = '''\n",
    "SELECT phrase\n",
    "FROM \"sent_train_tble\"\n",
    "where sentiment > 3\n",
    "'''"
   ]
  },
  {
   "cell_type": "code",
   "execution_count": 5,
   "metadata": {},
   "outputs": [],
   "source": [
    "negativefilename = 'negative.txt'\n",
    "positivefilename = 'positive.txt'"
   ]
  },
  {
   "cell_type": "code",
   "execution_count": 6,
   "metadata": {},
   "outputs": [
    {
     "name": "stdout",
     "output_type": "stream",
     "text": [
      "created file negative.txt\n",
      "created file positive.txt\n",
      "PostgreSQL connection is closed\n"
     ]
    }
   ],
   "source": [
    "#SAVE TO QUERY TO TEXT FILES\n",
    "from psycopg2 import Error\n",
    "from psycopg2.extensions import ISOLATION_LEVEL_AUTOCOMMIT\n",
    "\n",
    "\n",
    "try:\n",
    "    connection = psycopg2.connect(user = user,\n",
    "                                  password = password,\n",
    "                                  host = host,\n",
    "                                  port = port,\n",
    "                                  database = database)\n",
    "    cursor = connection.cursor()\n",
    "    connection.set_isolation_level(ISOLATION_LEVEL_AUTOCOMMIT)\n",
    "    engine_string = \"postgresql://{}:{}@{}:{}/{}\".format(user, password, host, port, database)\n",
    "    engine = create_engine(engine_string)\n",
    "    \n",
    "    outputquery = \"COPY ({0}) TO STDOUT WITH CSV HEADER\".format(sql1)\n",
    "        \n",
    "    with open(negativefilename, 'w') as f:\n",
    "        cursor.copy_expert(outputquery, f)\n",
    "    \n",
    "    print('created file', negativefilename)\n",
    "    \n",
    "    outputquery = \"COPY ({0}) TO STDOUT WITH CSV HEADER\".format(sql2)\n",
    "        \n",
    "    with open(positivefilename, 'w') as f:\n",
    "        cursor.copy_expert(outputquery, f)\n",
    "    \n",
    "    print('created file', positivefilename)    \n",
    "\n",
    "\n",
    "except (Exception, psycopg2.DatabaseError) as error :\n",
    "    print (\"Error while creating PostgreSQL table\", error)\n",
    "finally:\n",
    "    #closing database connection.\n",
    "        if(connection):\n",
    "            cursor.close()\n",
    "            connection.close()\n",
    "            print(\"PostgreSQL connection is closed\")"
   ]
  },
  {
   "cell_type": "markdown",
   "metadata": {},
   "source": [
    "####  2.  Use NLTK to tokenize phrases, create featuresets, and test Scikitlearn classificaion models.\n",
    "***details of function find_features(document)***   \n",
    "creates an array of the top 5000 most frequent words that are in each of the notes already classified as pos or neg.  \n",
    "each of the top 5k words in note is assigned a booleen values:   \n",
    "({\n",
    "'flat': False, 'horizontal': False, 'library': False...},'pos'), <br\\>\n",
    "({'flat': False, 'horizontal':  False, 'library': False...},'pos')...<br\\>\n",
    "]  \n",
    "\n",
    "##### This process needs to be completed load each time new reviews that are categorized are to be used for a new recalibrated training set\n",
    "\n",
    "Documents, all features frequencies and top 5000 features frequencies for training set are stored to pickle files for saving each classifier model and allow reduce the amount of time to process the saved sentiment model."
   ]
  },
  {
   "cell_type": "code",
   "execution_count": 7,
   "metadata": {},
   "outputs": [],
   "source": [
    "import nltk\n",
    "import random\n",
    "from nltk.corpus import stopwords\n",
    "from nltk.classify.scikitlearn import SklearnClassifier\n",
    "import pickle\n",
    "import string\n",
    "\n",
    "from sklearn.naive_bayes import MultinomialNB, BernoulliNB\n",
    "from sklearn.linear_model import LogisticRegression, SGDClassifier\n",
    "from sklearn.svm import SVC, LinearSVC, NuSVC\n",
    "\n",
    "from nltk.classify import ClassifierI\n",
    "from statistics import mode\n",
    "\n",
    "from nltk.tokenize import word_tokenize\n",
    "from nltk import FreqDist"
   ]
  },
  {
   "cell_type": "code",
   "execution_count": 8,
   "metadata": {},
   "outputs": [],
   "source": [
    "#creates documents list with class and all_words (using part of speech nltk for filtering only\n",
    "# adjectives for a list to to use as features for creating classification\n",
    "#filepath\n",
    "negativefilename = 'negative.txt'\n",
    "positivefilename = 'positive.txt'\n",
    "\n",
    "#opens local files\n",
    "short_pos = open(str(positivefilename), 'r', encoding=\"utf8\").read()\n",
    "short_neg = open(str(negativefilename), 'r', encoding=\"utf8\").read()\n",
    "\n",
    "#splits each line in each file, appends text 'pos' and 'neg' to line added to created documents list\n",
    "documents = []\n",
    "all_words = []\n",
    "\n",
    "#  j is adjective, r is adverb, and v is verb\n",
    "#allowed_word_types = [\"J\",\"R\",\"V\"]\n",
    "allowed_word_types = [\"J\"]\n",
    "# appending to docoments for training and test classificaton and creating all_words for all features to be tested\n",
    "for p in short_pos.split('\\n'):            #splits on new rows then loops by split\n",
    "    documents.append( (p, \"pos\") )         #each split adds review and 'pos'\n",
    "    words = word_tokenize(p)               #word tokenize each p\n",
    "    exclude = set(string.punctuation)\n",
    "    clean = [\"''\", '``']\n",
    "    words = [w for w in words if w not in exclude and w.isalpha() and w not in clean]\n",
    "    #words = [w for w in words if w not in stopwords]\n",
    "    pos = nltk.pos_tag(words)              #uses function pos_tag for inner loop for words checking part of speech\n",
    "    for w in pos:\n",
    "        if w[1][0] in allowed_word_types:    #need better understanding of w[1][0]\n",
    "            all_words.append(w[0].lower())\n",
    "\n",
    "    \n",
    "for p in short_neg.split('\\n'):\n",
    "    documents.append( (p, \"neg\") )\n",
    "    words = word_tokenize(p)\n",
    "    exclude = set(string.punctuation)\n",
    "    clean = [\"''\", '``']\n",
    "    words = [w for w in words if w not in exclude and w.isalpha() and w not in clean]\n",
    "    #words = [w for w in words if w not in stopwords]\n",
    "    pos = nltk.pos_tag(words)\n",
    "    for w in pos:\n",
    "        if w[1][0] in allowed_word_types:      #pos function tupple [1 is postive ??]\n",
    "            all_words.append(w[0].lower())\n",
    "            \n",
    "\n",
    "#dictionary with key and value of most commom to least common words\n",
    "all_words = nltk.FreqDist(all_words)             \n",
    "# limit the use of the only the top 5000 words in the all_words key value dictionary  {key = word, value=frequency}\n",
    "word_features = list(all_words.keys())[:5000]"
   ]
  },
  {
   "cell_type": "code",
   "execution_count": 9,
   "metadata": {},
   "outputs": [
    {
     "name": "stdout",
     "output_type": "stream",
     "text": [
      "['quiet', 'introspective', 'entertaining', 'independent', 'worth', 'epic', 'sincere', 'absolute', 'primary', 'memorable', 'best', 'lead', 'smart', 'provocative', 'impossible']\n"
     ]
    }
   ],
   "source": [
    "#saving documents to save processing time, this will be refreshed when training model is updated with new history\n",
    "save_documents = open(\"documents.pickle\",\"wb\")\n",
    "pickle.dump(documents, save_documents)\n",
    "save_documents.close()\n",
    "\n",
    "save_all_words = open(\"all_words_features.pickle\",\"wb\")\n",
    "pickle.dump(all_words, save_all_words)\n",
    "save_all_words.close()\n",
    "\n",
    "\n",
    "#save top 5k word features for training sets built below\n",
    "save_word_features = open(\"Algo_word_features5k.pickle\",\"wb\")\n",
    "pickle.dump(word_features, save_word_features)\n",
    "save_word_features.close()\n",
    "\n",
    "\n",
    "print(word_features[:15])"
   ]
  },
  {
   "cell_type": "markdown",
   "metadata": {},
   "source": [
    "#### view of word features used after processing for:\n",
    "parts of speech classification and cleaing text for non alpha words"
   ]
  },
  {
   "cell_type": "code",
   "execution_count": 11,
   "metadata": {},
   "outputs": [
    {
     "name": "stdout",
     "output_type": "stream",
     "text": [
      "[('more', 123), ('bad', 122), ('good', 121), ('funny', 91), ('little', 89), ('much', 89), ('best', 83), ('other', 70), ('many', 69), ('own', 68), ('most', 64), ('new', 54), ('first', 53), ('better', 52), ('great', 49)]\n"
     ]
    },
    {
     "data": {
      "image/png": "[encoded data removed]",
      "text/plain": [
       "<Figure size 432x288 with 1 Axes>"
      ]
     },
     "metadata": {},
     "output_type": "display_data"
    }
   ],
   "source": [
    "all_words_file = open(\"all_words_features.pickle\",\"rb\")\n",
    "all_words_features = pickle.load(all_words_file)\n",
    "print(all_words_features.most_common(15))\n",
    "fdist1 = FreqDist(all_words_features)\n",
    "fdist1.plot(25, cumulative=True)\n",
    "\n",
    "all_words_file.close()"
   ]
  },
  {
   "cell_type": "markdown",
   "metadata": {},
   "source": [
    "***this must be run when model is updated***, this will save the updated featuresets to a file using the updated notes stored above that were saved to new pickled documents and word features.  \n",
    "the sentiment module is created by ....."
   ]
  },
  {
   "cell_type": "code",
   "execution_count": 12,
   "metadata": {},
   "outputs": [],
   "source": [
    "def find_features(document):\n",
    "    words = word_tokenize(document)\n",
    "    features = {}\n",
    "    for w in word_features:\n",
    "        features[w] = (w in words)  #creates booleen value each word in document(note) as either true or false \n",
    "\n",
    "    return features "
   ]
  },
  {
   "cell_type": "code",
   "execution_count": 13,
   "metadata": {},
   "outputs": [
    {
     "name": "stdout",
     "output_type": "stream",
     "text": [
      "4557\n"
     ]
    }
   ],
   "source": [
    "#uses saved documents that are refreshed from source text files\n",
    "documents_file = open(\"documents.pickle\",\"rb\")\n",
    "documents = pickle.load(documents_file)\n",
    "featuresets = [(find_features(note), category) for (note, category) in documents]\n",
    "\n",
    "featuresets_f = open(\"features.pickle\",\"wb\")\n",
    "pickle.dump(featuresets, featuresets_f)\n",
    "featuresets_f.close()\n",
    "\n",
    "\n",
    "print(len(featuresets))"
   ]
  },
  {
   "cell_type": "markdown",
   "metadata": {},
   "source": [
    "below uses saved pickled object file as 'featurset_f' created with find_features fuction as input to choice of classification alogorithims from randomized sample"
   ]
  },
  {
   "cell_type": "code",
   "execution_count": 14,
   "metadata": {},
   "outputs": [],
   "source": [
    "#opening featuresets and creating training and test\n",
    "\n",
    "featuresets_f = open(\"features.pickle\",\"rb\")\n",
    "featuresets = pickle.load(featuresets_f)\n",
    "random.shuffle(featuresets)\n",
    "featuresets_f.close()"
   ]
  },
  {
   "cell_type": "code",
   "execution_count": 15,
   "metadata": {},
   "outputs": [],
   "source": [
    "training_set = featuresets[:4400]\n",
    "testing_set =  featuresets[4400:]"
   ]
  },
  {
   "cell_type": "markdown",
   "metadata": {},
   "source": [
    "***uses the nltk and Sklearn py modules for classification and saves the classifier to pickle files***<br\\>\n",
    "training and test sets are defined in previous cell using the featuresets stored from current current documents file"
   ]
  },
  {
   "cell_type": "code",
   "execution_count": 17,
   "metadata": {},
   "outputs": [],
   "source": [
    "# #### Combining Algorithms with NLTK and pickling to create a score for notes sentiment\n",
    "\n",
    "class VoteClassifier(ClassifierI):\n",
    "    def __init__(self, *classifiers):   #passes a list of classifiers\n",
    "        self._classifiers = classifiers\n",
    "\n",
    "    def classify(self, features):\n",
    "        votes = []\n",
    "        for c in self._classifiers:\n",
    "            v = c.classify(features)\n",
    "            votes.append(v)\n",
    "        return mode(votes)\n",
    "\n",
    "    def confidence(self, features):\n",
    "        votes = []\n",
    "        for c in self._classifiers:\n",
    "            v = c.classify(features)\n",
    "            votes.append(v)\n",
    "\n",
    "        choice_votes = votes.count(mode(votes))\n",
    "        conf = choice_votes / len(votes)\n",
    "        return conf"
   ]
  },
  {
   "cell_type": "code",
   "execution_count": 18,
   "metadata": {},
   "outputs": [
    {
     "name": "stdout",
     "output_type": "stream",
     "text": [
      "Original Naive Bayes Algo accuracy percent: 82.80254777070064\n",
      "Most Informative Features\n",
      "               wonderful = True              pos : neg    =     23.0 : 1.0\n",
      "                touching = True              pos : neg    =     23.0 : 1.0\n",
      "                gorgeous = True              pos : neg    =     17.9 : 1.0\n",
      "              remarkable = True              pos : neg    =     16.2 : 1.0\n",
      "                    warm = True              pos : neg    =     16.2 : 1.0\n",
      "                     bad = True              neg : pos    =     16.2 : 1.0\n",
      "              thoughtful = True              pos : neg    =     14.8 : 1.0\n",
      "           extraordinary = True              pos : neg    =     12.8 : 1.0\n",
      "               beautiful = True              pos : neg    =     12.1 : 1.0\n",
      "                 delight = True              pos : neg    =     11.1 : 1.0\n",
      "                   vivid = True              pos : neg    =     11.1 : 1.0\n",
      "                terrific = True              pos : neg    =     10.7 : 1.0\n",
      "              delightful = True              pos : neg    =     10.7 : 1.0\n",
      "                    less = True              neg : pos    =     10.6 : 1.0\n",
      "                 crafted = True              pos : neg    =      9.7 : 1.0\n",
      "MNB_classifier accuracy percent: 82.16560509554141\n",
      "BernoulliNB_classifier accuracy percent: 83.43949044585987\n",
      "LogisticRegression_classifier accuracy percent: 78.343949044586\n",
      "LinearSVC_classifier accuracy percent: 82.16560509554141\n"
     ]
    },
    {
     "name": "stderr",
     "output_type": "stream",
     "text": [
      "/opt/conda/lib/python3.6/site-packages/sklearn/linear_model/stochastic_gradient.py:128: FutureWarning: max_iter and tol parameters have been added in <class 'sklearn.linear_model.stochastic_gradient.SGDClassifier'> in 0.19. If both are left unset, they default to max_iter=5 and tol=None. If tol is not None, max_iter defaults to max_iter=1000. From 0.21, default max_iter will be 1000, and default tol will be 1e-3.\n",
      "  \"and default tol will be 1e-3.\" % type(self), FutureWarning)\n"
     ]
    },
    {
     "name": "stdout",
     "output_type": "stream",
     "text": [
      "SGDClassifier accuracy percent: 82.80254777070064\n",
      "voted_classifier accuracy percent: 81.52866242038218\n"
     ]
    }
   ],
   "source": [
    "classifier = nltk.NaiveBayesClassifier.train(training_set)\n",
    "print(\"Original Naive Bayes Algo accuracy percent:\", (nltk.classify.accuracy(classifier, testing_set))*100)\n",
    "classifier.show_most_informative_features(15)\n",
    "\n",
    "save_classifier = open(\"pickled_algos_originalnaivebayes5k.pickle\",\"wb\")\n",
    "pickle.dump(classifier, save_classifier)\n",
    "save_classifier.close()\n",
    "######\n",
    "\n",
    "MNB_classifier = SklearnClassifier(MultinomialNB())\n",
    "MNB_classifier.train(training_set)\n",
    "print(\"MNB_classifier accuracy percent:\", (nltk.classify.accuracy(MNB_classifier, testing_set))*100)\n",
    "\n",
    "save_classifier = open(\"pickled_algos_MNB_classifier5k.pickle\",\"wb\")\n",
    "pickle.dump(MNB_classifier, save_classifier)\n",
    "save_classifier.close()\n",
    "######\n",
    "\n",
    "BernoulliNB_classifier = SklearnClassifier(BernoulliNB())\n",
    "BernoulliNB_classifier.train(training_set)\n",
    "print(\"BernoulliNB_classifier accuracy percent:\", (nltk.classify.accuracy(BernoulliNB_classifier, testing_set))*100)\n",
    "\n",
    "save_classifier = open(\"pickled_algos_BernoulliNB_classifier5k.pickle\",\"wb\")\n",
    "pickle.dump(BernoulliNB_classifier, save_classifier)\n",
    "save_classifier.close()\n",
    "######\n",
    "\n",
    "LogisticRegression_classifier = SklearnClassifier(LogisticRegression())\n",
    "LogisticRegression_classifier.train(training_set)\n",
    "print(\"LogisticRegression_classifier accuracy percent:\", (nltk.classify.accuracy(LogisticRegression_classifier, testing_set))*100)\n",
    "\n",
    "save_classifier = open(\"pickled_algos_LogisticRegression_classifier5k.pickle\",\"wb\")\n",
    "pickle.dump(LogisticRegression_classifier, save_classifier)\n",
    "save_classifier.close()\n",
    "######\n",
    "\n",
    "\n",
    "LinearSVC_classifier = SklearnClassifier(LinearSVC())\n",
    "LinearSVC_classifier.train(training_set)\n",
    "print(\"LinearSVC_classifier accuracy percent:\", (nltk.classify.accuracy(LinearSVC_classifier, testing_set))*100)\n",
    "\n",
    "save_classifier = open(\"pickled_algos_LinearSVC_classifier5k.pickle\",\"wb\")\n",
    "pickle.dump(LinearSVC_classifier, save_classifier)\n",
    "save_classifier.close()\n",
    "\n",
    "\n",
    "##NuSVC_classifier = SklearnClassifier(NuSVC())\n",
    "##NuSVC_classifier.train(training_set)\n",
    "##print(\"NuSVC_classifier accuracy percent:\", (nltk.classify.accuracy(NuSVC_classifier, testing_set))*100)\n",
    "\n",
    "\n",
    "SGDC_classifier = SklearnClassifier(SGDClassifier())\n",
    "SGDC_classifier.train(training_set)\n",
    "print(\"SGDClassifier accuracy percent:\",nltk.classify.accuracy(SGDC_classifier, testing_set)*100)\n",
    "\n",
    "save_classifier = open(\"pickled_algos_SGDC_classifier5k.pickle\",\"wb\")\n",
    "pickle.dump(SGDC_classifier, save_classifier)\n",
    "save_classifier.close()\n",
    "######\n",
    "\n",
    "\n",
    "voted_classifier = VoteClassifier(\n",
    "                                  classifier,\n",
    "                                  LinearSVC_classifier,\n",
    "                                  MNB_classifier,\n",
    "                                  BernoulliNB_classifier,\n",
    "                                  LogisticRegression_classifier)\n",
    "\n",
    "print(\"voted_classifier accuracy percent:\", (nltk.classify.accuracy(voted_classifier, testing_set))*100)\n"
   ]
  },
  {
   "cell_type": "markdown",
   "metadata": {},
   "source": [
    "### test the overall accuracy and better understand the accuarcy of positve verse negative predictions***"
   ]
  },
  {
   "cell_type": "markdown",
   "metadata": {},
   "source": [
    "#### understand base predictions and the accruracy of positive verse negative sentiment predictions   \n",
    "This can be accomplished quickly by quering the db for the positive and negative text files created earlier.\n"
   ]
  },
  {
   "cell_type": "code",
   "execution_count": 84,
   "metadata": {},
   "outputs": [
    {
     "name": "stdout",
     "output_type": "stream",
     "text": [
      "negativeCount= 3272\n",
      "base positve setiment=  0.2813529540962003\n",
      "postiveCount=  3272\n",
      "PostgreSQL connection is closed\n"
     ]
    }
   ],
   "source": [
    "#SAVE TO QUERY TO TEXT FILES\n",
    "from psycopg2 import Error\n",
    "from psycopg2.extensions import ISOLATION_LEVEL_AUTOCOMMIT\n",
    "\n",
    "\n",
    "try:\n",
    "    connection = psycopg2.connect(user = user,\n",
    "                                  password = password,\n",
    "                                  host = host,\n",
    "                                  port = port,\n",
    "                                  database = database)\n",
    "    cursor = connection.cursor()\n",
    "    connection.set_isolation_level(ISOLATION_LEVEL_AUTOCOMMIT)\n",
    "    engine_string = \"postgresql://{}:{}@{}:{}/{}\".format(user, password, host, port, database)\n",
    "    engine = create_engine(engine_string)\n",
    "    \n",
    "    negativeCount = \"SELECT count(*) FROM sent_train_tble where sentiment < 2\"\n",
    "    cursor.execute(negativeCount)\n",
    "    negativeCount = cursor.fetchall()[0][0]\n",
    "    print('negativeCount=', negativeCount)\n",
    "    \n",
    "    postiveCount = \"SELECT count(*) FROM sent_train_tble where sentiment > 3\"\n",
    "    cursor.execute(postiveCount)\n",
    "    postiveCount = cursor.fetchall()[0][0]    \n",
    "    print(\"base positve setiment= \", postiveCount/(negativeCount+postiveCount))\n",
    "        \n",
    "    print('postiveCount= ', negativeCount)    \n",
    "\n",
    "\n",
    "except (Exception, psycopg2.DatabaseError) as error :\n",
    "    print (\"Error while creating PostgreSQL table\", error)\n",
    "finally:\n",
    "    #closing database connection.\n",
    "        if(connection):\n",
    "            cursor.close()\n",
    "            connection.close()\n",
    "            print(\"PostgreSQL connection is closed\")"
   ]
  },
  {
   "cell_type": "markdown",
   "metadata": {},
   "source": [
    "#### if one was to guess negative, they would be correct 72% of the time.  Using the algorithyms above, prediction accuracy is roughly 82%.  This is better than guessing.   Anything better than 72% accuracy for negative is better than guessing while accuracy in predicting a postive review needs to be better than 28%."
   ]
  },
  {
   "cell_type": "markdown",
   "metadata": {},
   "source": [
    "*** the prediction value is not as usefull for predicting positive movie ratings versus predicting negative ratings. that will be won considering 30% accuracy is low, while predicting deals that have negative sentiment with 85% accuracy is pretty good prediction)***<br \\>\n",
    "by not randomizing featuresets then testing 1st 100 which should be positive as documents were appended by pos then neg notes using saved classification models above\n",
    "\n",
    ">1.) opening featuresets without shuffling  \n",
    ">2.) creating training and test for postive docuents and to test accuracy of pos vs negative prediction in (similar to confusion matrix)  \n",
    ">3.) negative accuracy"
   ]
  },
  {
   "cell_type": "code",
   "execution_count": 19,
   "metadata": {},
   "outputs": [
    {
     "name": "stdout",
     "output_type": "stream",
     "text": [
      "4557\n"
     ]
    }
   ],
   "source": [
    "#######to look at document order to confirm pos and negative order ##############\n",
    "# documents_f = open(str(filepath) + \"documents.pickle\",\"rb\")\n",
    "# documents = pickle.load(documents_f)\n",
    "# documents_f.close()\n",
    "# #print(documents[-100:]) #this shoud be a loop to look for 'neg' in documents\n",
    "\n",
    "#1\n",
    "featuresets_f = open(\"features.pickle\",\"rb\")\n",
    "featuresets = pickle.load(featuresets_f)\n",
    "#random.shuffle(featuresets)  this is to keep the order which is 1st hundred are positive vs last 100 negative\n",
    "featuresets_f.close()\n",
    "print(len(featuresets))"
   ]
  },
  {
   "cell_type": "code",
   "execution_count": 20,
   "metadata": {},
   "outputs": [
    {
     "name": "stdout",
     "output_type": "stream",
     "text": [
      "Original Naive Bayes Algo accuracy for predicting positive outcomes \n",
      " percent: 69.0\n",
      "Most Informative Features\n",
      "               wonderful = True              pos : neg    =     23.0 : 1.0\n",
      "                touching = True              pos : neg    =     23.0 : 1.0\n",
      "                gorgeous = True              pos : neg    =     17.9 : 1.0\n",
      "              remarkable = True              pos : neg    =     16.2 : 1.0\n",
      "                    warm = True              pos : neg    =     16.2 : 1.0\n",
      "                     bad = True              neg : pos    =     16.2 : 1.0\n",
      "              thoughtful = True              pos : neg    =     14.8 : 1.0\n",
      "           extraordinary = True              pos : neg    =     12.8 : 1.0\n",
      "               beautiful = True              pos : neg    =     12.1 : 1.0\n",
      "                 delight = True              pos : neg    =     11.1 : 1.0\n",
      "                   vivid = True              pos : neg    =     11.1 : 1.0\n",
      "                terrific = True              pos : neg    =     10.7 : 1.0\n",
      "              delightful = True              pos : neg    =     10.7 : 1.0\n",
      "                    less = True              neg : pos    =     10.6 : 1.0\n",
      "                 crafted = True              pos : neg    =      9.7 : 1.0\n",
      "MNB_classifier accuracy percent: 68.0\n",
      "BernoulliNB_classifier accuracy percent: 63.0\n",
      "LogisticRegression_classifier accuracy percent: 64.0\n"
     ]
    },
    {
     "name": "stderr",
     "output_type": "stream",
     "text": [
      "/opt/conda/lib/python3.6/site-packages/sklearn/linear_model/stochastic_gradient.py:128: FutureWarning: max_iter and tol parameters have been added in <class 'sklearn.linear_model.stochastic_gradient.SGDClassifier'> in 0.19. If both are left unset, they default to max_iter=5 and tol=None. If tol is not None, max_iter defaults to max_iter=1000. From 0.21, default max_iter will be 1000, and default tol will be 1e-3.\n",
      "  \"and default tol will be 1e-3.\" % type(self), FutureWarning)\n"
     ]
    },
    {
     "name": "stdout",
     "output_type": "stream",
     "text": [
      "SGDClassifier_classifier accuracy percent: 76.0\n",
      "LinearSVC_classifier accuracy percent: 79.0\n",
      "NuSVC_classifier accuracy percent: 46.0\n",
      "voted_classifier accuracy percent: 64.0\n"
     ]
    }
   ],
   "source": [
    "#2 positive data example:      \n",
    "training_set = featuresets[:4457]\n",
    "testing_set =  featuresets[:100]\n",
    "classifier = nltk.NaiveBayesClassifier.train(training_set)\n",
    "\n",
    "classifier_f = open(\"pickled_algos_originalnaivebayes5k.pickle\",\"rb\")  \n",
    "classifier = pickle.load(classifier_f)\n",
    "classifier_f.close()\n",
    "\n",
    "print(\"Original Naive Bayes Algo accuracy for predicting positive outcomes \\n percent:\", \n",
    "      (nltk.classify.accuracy(classifier, testing_set))*100)\n",
    "classifier.show_most_informative_features(15)\n",
    "\n",
    "\n",
    "MNB_classifier = SklearnClassifier(MultinomialNB())\n",
    "MNB_classifier.train(training_set)\n",
    "print(\"MNB_classifier accuracy percent:\", (nltk.classify.accuracy(MNB_classifier, testing_set))*100)\n",
    "\n",
    "\n",
    "BernoulliNB_classifier = SklearnClassifier(BernoulliNB())\n",
    "BernoulliNB_classifier.train(training_set)\n",
    "print(\"BernoulliNB_classifier accuracy percent:\", (nltk.classify.accuracy(BernoulliNB_classifier, testing_set))*100)\n",
    "\n",
    "LogisticRegression_classifier = SklearnClassifier(LogisticRegression())\n",
    "LogisticRegression_classifier.train(training_set)\n",
    "print(\"LogisticRegression_classifier accuracy percent:\", (nltk.classify.accuracy(LogisticRegression_classifier, testing_set))*100)\n",
    "\n",
    "SGDClassifier_classifier = SklearnClassifier(SGDClassifier())\n",
    "SGDClassifier_classifier.train(training_set)\n",
    "print(\"SGDClassifier_classifier accuracy percent:\", (nltk.classify.accuracy(SGDClassifier_classifier, testing_set))*100)\n",
    "\n",
    "##SVC_classifier = SklearnClassifier(SVC())\n",
    "##SVC_classifier.train(training_set)\n",
    "##print(\"SVC_classifier accuracy percent:\", (nltk.classify.accuracy(SVC_classifier, testing_set))*100)\n",
    "\n",
    "LinearSVC_classifier = SklearnClassifier(LinearSVC())\n",
    "LinearSVC_classifier.train(training_set)\n",
    "print(\"LinearSVC_classifier accuracy percent:\", (nltk.classify.accuracy(LinearSVC_classifier, testing_set))*100)\n",
    "\n",
    "NuSVC_classifier = SklearnClassifier(NuSVC())\n",
    "NuSVC_classifier.train(training_set)\n",
    "print(\"NuSVC_classifier accuracy percent:\", (nltk.classify.accuracy(NuSVC_classifier, testing_set))*100)\n",
    "\n",
    "voted_classifier = VoteClassifier(\n",
    "                                  NuSVC_classifier,\n",
    "                                  LinearSVC_classifier,\n",
    "                                  MNB_classifier,\n",
    "                                  BernoulliNB_classifier,\n",
    "                                  LogisticRegression_classifier)\n",
    "\n",
    "print(\"voted_classifier accuracy percent:\", (nltk.classify.accuracy(voted_classifier, testing_set))*100)"
   ]
  },
  {
   "cell_type": "code",
   "execution_count": 21,
   "metadata": {},
   "outputs": [
    {
     "name": "stdout",
     "output_type": "stream",
     "text": [
      "Original Naive Bayes Algo accuracy for predicting negative outcomes \n",
      " percent: 98.0\n",
      "Most Informative Features\n",
      "               wonderful = True              pos : neg    =     23.0 : 1.0\n",
      "                touching = True              pos : neg    =     23.0 : 1.0\n",
      "                gorgeous = True              pos : neg    =     17.9 : 1.0\n",
      "              remarkable = True              pos : neg    =     16.2 : 1.0\n",
      "                    warm = True              pos : neg    =     16.2 : 1.0\n",
      "                     bad = True              neg : pos    =     16.2 : 1.0\n",
      "              thoughtful = True              pos : neg    =     14.8 : 1.0\n",
      "           extraordinary = True              pos : neg    =     12.8 : 1.0\n",
      "               beautiful = True              pos : neg    =     12.1 : 1.0\n",
      "                 delight = True              pos : neg    =     11.1 : 1.0\n",
      "                   vivid = True              pos : neg    =     11.1 : 1.0\n",
      "                terrific = True              pos : neg    =     10.7 : 1.0\n",
      "              delightful = True              pos : neg    =     10.7 : 1.0\n",
      "                    less = True              neg : pos    =     10.6 : 1.0\n",
      "                 crafted = True              pos : neg    =      9.7 : 1.0\n",
      "MNB_classifier accuracy percent: 92.0\n",
      "BernoulliNB_classifier accuracy percent: 97.0\n",
      "LogisticRegression_classifier accuracy percent: 97.0\n"
     ]
    },
    {
     "name": "stderr",
     "output_type": "stream",
     "text": [
      "/opt/conda/lib/python3.6/site-packages/sklearn/linear_model/stochastic_gradient.py:128: FutureWarning: max_iter and tol parameters have been added in <class 'sklearn.linear_model.stochastic_gradient.SGDClassifier'> in 0.19. If both are left unset, they default to max_iter=5 and tol=None. If tol is not None, max_iter defaults to max_iter=1000. From 0.21, default max_iter will be 1000, and default tol will be 1e-3.\n",
      "  \"and default tol will be 1e-3.\" % type(self), FutureWarning)\n"
     ]
    },
    {
     "name": "stdout",
     "output_type": "stream",
     "text": [
      "SGDClassifier_classifier accuracy percent: 94.0\n",
      "LinearSVC_classifier accuracy percent: 90.0\n",
      "NuSVC_classifier accuracy percent: 98.0\n",
      "voted_classifier accuracy percent: 97.0\n"
     ]
    }
   ],
   "source": [
    "#3 negative data example:      \n",
    "training_set = featuresets[:4457]\n",
    "testing_set =  featuresets[-100:]\n",
    "classifier = nltk.NaiveBayesClassifier.train(training_set)\n",
    "\n",
    "classifier_f = open(\"pickled_algos_originalnaivebayes5k.pickle\",\"rb\")  \n",
    "classifier = pickle.load(classifier_f)\n",
    "classifier_f.close()\n",
    "\n",
    "print(\"Original Naive Bayes Algo accuracy for predicting negative outcomes \\n percent:\", \n",
    "      (nltk.classify.accuracy(classifier, testing_set))*100)\n",
    "classifier.show_most_informative_features(15)\n",
    "\n",
    "\n",
    "MNB_classifier = SklearnClassifier(MultinomialNB())\n",
    "MNB_classifier.train(training_set)\n",
    "print(\"MNB_classifier accuracy percent:\", (nltk.classify.accuracy(MNB_classifier, testing_set))*100)\n",
    "\n",
    "\n",
    "BernoulliNB_classifier = SklearnClassifier(BernoulliNB())\n",
    "BernoulliNB_classifier.train(training_set)\n",
    "print(\"BernoulliNB_classifier accuracy percent:\", (nltk.classify.accuracy(BernoulliNB_classifier, testing_set))*100)\n",
    "\n",
    "LogisticRegression_classifier = SklearnClassifier(LogisticRegression())\n",
    "LogisticRegression_classifier.train(training_set)\n",
    "print(\"LogisticRegression_classifier accuracy percent:\", (nltk.classify.accuracy(LogisticRegression_classifier, testing_set))*100)\n",
    "\n",
    "SGDClassifier_classifier = SklearnClassifier(SGDClassifier())\n",
    "SGDClassifier_classifier.train(training_set)\n",
    "print(\"SGDClassifier_classifier accuracy percent:\", (nltk.classify.accuracy(SGDClassifier_classifier, testing_set))*100)\n",
    "\n",
    "##SVC_classifier = SklearnClassifier(SVC())\n",
    "##SVC_classifier.train(training_set)\n",
    "##print(\"SVC_classifier accuracy percent:\", (nltk.classify.accuracy(SVC_classifier, testing_set))*100)\n",
    "\n",
    "LinearSVC_classifier = SklearnClassifier(LinearSVC())\n",
    "LinearSVC_classifier.train(training_set)\n",
    "print(\"LinearSVC_classifier accuracy percent:\", (nltk.classify.accuracy(LinearSVC_classifier, testing_set))*100)\n",
    "\n",
    "NuSVC_classifier = SklearnClassifier(NuSVC())\n",
    "NuSVC_classifier.train(training_set)\n",
    "print(\"NuSVC_classifier accuracy percent:\", (nltk.classify.accuracy(NuSVC_classifier, testing_set))*100)\n",
    "\n",
    "voted_classifier = VoteClassifier(\n",
    "                                  NuSVC_classifier,\n",
    "                                  LinearSVC_classifier,\n",
    "                                  MNB_classifier,\n",
    "                                  BernoulliNB_classifier,\n",
    "                                  LogisticRegression_classifier)\n",
    "\n",
    "print(\"voted_classifier accuracy percent:\", (nltk.classify.accuracy(voted_classifier, testing_set))*100)\n",
    "\n"
   ]
  },
  {
   "cell_type": "markdown",
   "metadata": {},
   "source": [
    "### Create Python Module that will be used on kaggle test reviews for sentiment analysis "
   ]
  },
  {
   "cell_type": "code",
   "execution_count": 7,
   "metadata": {},
   "outputs": [
    {
     "name": "stdout",
     "output_type": "stream",
     "text": [
      "Overwriting sentiment_mod.py\n"
     ]
    }
   ],
   "source": [
    "%%writefile sentiment_mod.py\n",
    "#saved to file sentiment_mod.py\n",
    "import nltk\n",
    "import random\n",
    "#from nltk.corpus import movie_reviews\n",
    "from nltk.classify.scikitlearn import SklearnClassifier\n",
    "import pickle\n",
    "from sklearn.naive_bayes import MultinomialNB, BernoulliNB\n",
    "from sklearn.linear_model import LogisticRegression, SGDClassifier\n",
    "from sklearn.svm import SVC, LinearSVC, NuSVC\n",
    "from nltk.classify import ClassifierI\n",
    "from statistics import mode\n",
    "from nltk.tokenize import word_tokenize\n",
    "\n",
    "\n",
    "class VoteClassifier(ClassifierI):\n",
    "    def __init__(self, *classifiers):\n",
    "        self._classifiers = classifiers\n",
    "\n",
    "    def classify(self, features):\n",
    "        votes = []\n",
    "        for c in self._classifiers:\n",
    "            v = c.classify(features)\n",
    "            votes.append(v)\n",
    "        return mode(votes)\n",
    "\n",
    "    def confidence(self, features):\n",
    "        votes = []\n",
    "        for c in self._classifiers:\n",
    "            v = c.classify(features)\n",
    "            votes.append(v)\n",
    "\n",
    "        choice_votes = votes.count(mode(votes))\n",
    "        conf = choice_votes / len(votes)\n",
    "        return conf\n",
    "\n",
    "\n",
    "documents_f = open(\"documents.pickle\", \"rb\")\n",
    "documents = pickle.load(documents_f)\n",
    "documents_f.close()\n",
    "\n",
    "\n",
    "word_features5k_f = open(\"Algo_word_features5k.pickle\", \"rb\")\n",
    "word_features = pickle.load(word_features5k_f)\n",
    "word_features5k_f.close()\n",
    "\n",
    "\n",
    "def find_features(document):\n",
    "    words = word_tokenize(document)\n",
    "    features = {}\n",
    "    for w in word_features:\n",
    "        features[w] = (w in words)\n",
    "\n",
    "    return features\n",
    "\n",
    "\n",
    "\n",
    "featuresets_f = open(\"features.pickle\", \"rb\")\n",
    "featuresets = pickle.load(featuresets_f)\n",
    "featuresets_f.close()\n",
    "\n",
    "random.shuffle(featuresets)\n",
    "#print(len(featuresets))\n",
    "\n",
    "testing_set = featuresets[6900:]\n",
    "training_set = featuresets[:6900]\n",
    "\n",
    "\n",
    "\n",
    "open_file = open(\"pickled_algos_originalnaivebayes5k.pickle\", \"rb\")\n",
    "classifier = pickle.load(open_file)\n",
    "open_file.close()\n",
    "\n",
    "\n",
    "open_file = open(\"pickled_algos_MNB_classifier5k.pickle\", \"rb\")\n",
    "MNB_classifier = pickle.load(open_file)\n",
    "open_file.close()\n",
    "\n",
    "\n",
    "\n",
    "open_file = open(\"pickled_algos_BernoulliNB_classifier5k.pickle\", \"rb\")\n",
    "BernoulliNB_classifier = pickle.load(open_file)\n",
    "open_file.close()\n",
    "\n",
    "\n",
    "open_file = open(\"pickled_algos_LogisticRegression_classifier5k.pickle\", \"rb\")\n",
    "LogisticRegression_classifier = pickle.load(open_file)\n",
    "open_file.close()\n",
    "\n",
    "\n",
    "open_file = open(\"pickled_algos_LinearSVC_classifier5k.pickle\", \"rb\")\n",
    "LinearSVC_classifier = pickle.load(open_file)\n",
    "open_file.close()\n",
    "\n",
    "\n",
    "open_file = open(\"pickled_algos_SGDC_classifier5k.pickle\", \"rb\")\n",
    "SGDC_classifier = pickle.load(open_file)\n",
    "open_file.close()\n",
    "\n",
    "\n",
    "\n",
    "\n",
    "voted_classifier = VoteClassifier(\n",
    "                                  classifier,\n",
    "                                  LinearSVC_classifier,\n",
    "                                  MNB_classifier,\n",
    "                                  BernoulliNB_classifier,\n",
    "                                  LogisticRegression_classifier)\n",
    "\n",
    "\n",
    "\n",
    "def sentiment(text):\n",
    "    feats = find_features(text)\n",
    "    return voted_classifier.classify(feats),voted_classifier.confidence(feats)"
   ]
  },
  {
   "cell_type": "code",
   "execution_count": 14,
   "metadata": {},
   "outputs": [
    {
     "name": "stdout",
     "output_type": "stream",
     "text": [
      "('neg', 1.0)\n",
      "('neg', 0.8)\n"
     ]
    }
   ],
   "source": [
    "import sentiment_mod as s\n",
    "\n",
    "#test the saved module against examples\n",
    "print(s.sentiment('''An intermittently pleasing but mostly routine effort .'''))\n",
    "print(s.sentiment('''Once you get bad its wonderful ... the movie wonderful a heady wonderful .'''))"
   ]
  },
  {
   "cell_type": "code",
   "execution_count": 10,
   "metadata": {},
   "outputs": [
    {
     "name": "stdout",
     "output_type": "stream",
     "text": [
      "('neg', 1.0)\n"
     ]
    }
   ],
   "source": [
    "print(s.sentiment('''The story and structure are well-honed .'''))"
   ]
  }
 ],
 "metadata": {
  "kernelspec": {
   "display_name": "Python 3",
   "language": "python",
   "name": "python3"
  },
  "language_info": {
   "codemirror_mode": {
    "name": "ipython",
    "version": 3
   },
   "file_extension": ".py",
   "mimetype": "text/x-python",
   "name": "python",
   "nbconvert_exporter": "python",
   "pygments_lexer": "ipython3",
   "version": "3.6.3"
  }
 },
 "nbformat": 4,
 "nbformat_minor": 2
}
