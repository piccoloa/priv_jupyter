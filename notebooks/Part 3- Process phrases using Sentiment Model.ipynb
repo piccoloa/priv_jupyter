{
 "cells": [
  {
   "cell_type": "markdown",
   "metadata": {},
   "source": [
    "\n",
    "\n",
    "## Applying Sentiment analysis to movie review using Kaggle labeled dataset.\n",
    "\n",
    "https://www.kaggle.com/c/sentiment-analysis-on-movie-reviews/data"
   ]
  },
  {
   "cell_type": "markdown",
   "metadata": {},
   "source": [
    "### Process unclassified phrases using saved Sentiment module and trained data\n",
    "\n",
    "\n",
    "## Part 3 - Process phrases using Sentiment Model\n",
    "__Summary__:  \n",
    "\n",
    "Part 3 is a brief.  The sentiment model saved in part 2 is used to score unclassified phrases. In this case the test phrases provided by Kaggle.    \n",
    "\n",
    "\n",
    "1.  Create a processed phrase table in Postgres DB.\n",
    "2.  Incrementally process each phrase using saved sentiment module.  \n",
    "---"
   ]
  },
  {
   "cell_type": "code",
   "execution_count": 8,
   "metadata": {},
   "outputs": [],
   "source": [
    "#!/usr/local/bin/python3.6\n",
    "#import logging\n",
    "import os\n",
    "import pyodbc\n",
    "import psycopg2\n",
    "import psycopg2.extras\n",
    "import numpy as np\n",
    "#import pandas as pd\n",
    "#import pandas.io.sql as psql\n",
    "from sqlalchemy import create_engine"
   ]
  },
  {
   "cell_type": "code",
   "execution_count": 2,
   "metadata": {},
   "outputs": [],
   "source": [
    "#postgres authentication\n",
    "user = \"alexp\"\n",
    "password = \"secret\"\n",
    "host = \"pg_db\"\n",
    "port = \"5432\"\n",
    "database = \"priv_workspace\""
   ]
  },
  {
   "cell_type": "code",
   "execution_count": 3,
   "metadata": {},
   "outputs": [
    {
     "name": "stdout",
     "output_type": "stream",
     "text": [
      "{'user': 'alexp', 'dbname': 'priv_workspace', 'host': 'pg_db', 'port': '5432', 'tty': '', 'options': '', 'sslmode': 'prefer', 'sslcompression': '1', 'krbsrvname': 'postgres'} \n",
      "\n",
      "You are connected to -  ('PostgreSQL 10.5 (Debian 10.5-1.pgdg90+1) on x86_64-pc-linux-gnu, compiled by gcc (Debian 6.3.0-18+deb9u1) 6.3.0 20170516, 64-bit',) \n",
      "\n",
      "PostgreSQL connection is closed\n"
     ]
    }
   ],
   "source": [
    "#view pg environment\n",
    "try:\n",
    "    connection = psycopg2.connect(user = user,\n",
    "                                  password = password,\n",
    "                                  host = host,\n",
    "                                  port = port,\n",
    "                                  database = database)\n",
    "    cursor = connection.cursor()\n",
    "    # Print PostgreSQL Connection properties\n",
    "    print ( connection.get_dsn_parameters(),\"\\n\")\n",
    "    # Print PostgreSQL version\n",
    "    cursor.execute(\"SELECT version();\")\n",
    "    record = cursor.fetchone()\n",
    "    print(\"You are connected to - \", record,\"\\n\")\n",
    "except (Exception, psycopg2.Error) as error :\n",
    "    print (\"Error while connecting to PostgreSQL\", error)\n",
    "finally:\n",
    "    #closing database connection.\n",
    "        if(connection):\n",
    "            cursor.close()\n",
    "            connection.close()\n",
    "            print(\"PostgreSQL connection is closed\")"
   ]
  },
  {
   "cell_type": "markdown",
   "metadata": {},
   "source": [
    "### 1.  Create a processed phrase table in Postgres DB."
   ]
  },
  {
   "cell_type": "code",
   "execution_count": 30,
   "metadata": {},
   "outputs": [],
   "source": [
    "#create total count of documents (phrases to be processed) incrementally process and write each document\n",
    "sql1 = '''SELECT COUNT(*) FROM \"sent_test_tble\"'''"
   ]
  },
  {
   "cell_type": "code",
   "execution_count": 46,
   "metadata": {},
   "outputs": [],
   "source": [
    "###create processedPhrasesTable table\n",
    "processedPhrasesTable = '''CREATE TABLE IF NOT EXISTS \"processed_phrases\"(\n",
    "    \"phraseid\" INTEGER REFERENCES sent_movie_test(phraseid), \"sentenceid\" INTEGER, \n",
    " \"rowno\" INT,\"sentiment\" TEXT, \"sent_score\" NUMERIC (5,2)\n",
    ");'''"
   ]
  },
  {
   "cell_type": "markdown",
   "metadata": {},
   "source": [
    "### 2.  Incrementally process each phrase using saved sentiment module."
   ]
  },
  {
   "cell_type": "code",
   "execution_count": 48,
   "metadata": {},
   "outputs": [
    {
     "name": "stdout",
     "output_type": "stream",
     "text": [
      "retrieved total documents  3310\n",
      "inserted  3310  into processed_phrases table\n",
      "PostgreSQL connection is closed\n"
     ]
    }
   ],
   "source": [
    "import sentiment_mod as s\n",
    "#score phrases for sentiment and write to pg db\n",
    "from psycopg2 import Error\n",
    "from psycopg2.extensions import ISOLATION_LEVEL_AUTOCOMMIT\n",
    "\n",
    "try:\n",
    "    connection = psycopg2.connect(user = user,\n",
    "                                  password = password,\n",
    "                                  host = host,\n",
    "                                  port = port,\n",
    "                                  database = database)\n",
    "    cursor = connection.cursor()\n",
    "    connection.set_isolation_level(ISOLATION_LEVEL_AUTOCOMMIT)\n",
    "    engine_string = \"postgresql://{}:{}@{}:{}/{}\".format(user, password, host, port, database)\n",
    "    engine = create_engine(engine_string)\n",
    "    \n",
    "    #get total documents to be processed   \n",
    "    cursor.execute(sql1)\n",
    "    fetch = cursor.fetchall()\n",
    "    totalDocuments = fetch[0][0]\n",
    "    print('retrieved total documents ', fetch[0][0])\n",
    "    \n",
    "    #create processed table if doesnt already exist\n",
    "    cursor.execute(processedPhrasesTable)\n",
    "    \n",
    "    for i in range(totalDocuments):\n",
    "        row = i +1\n",
    "        processRow = '''select * from (SELECT a.phraseid, a.sentenceid, a.phrase, \n",
    "        row_number() over (order by phrase)\n",
    "        FROM \"sent_test_tble\" a ) b \n",
    "        where b.row_number = '{}' '''.format(row)\n",
    "        #print(processRow)\n",
    "        cursor.execute(processRow)\n",
    "        fetch = cursor.fetchall()\n",
    "        sentiment = s.sentiment(fetch[0][2])\n",
    "        \n",
    "        #print('retrieved total documents ', sentiment)\n",
    "        #phraseid, sentenceid, rowid, sentiment, sent score\n",
    "        processedPhrase = fetch[0][0:1] + fetch[0][1:2] + fetch[0][3:4] + sentiment\n",
    "        sql='''insert into processed_phrases values({}, {}, {}, '{}', {})'''.format(processedPhrase[0], processedPhrase[1],\n",
    "                                                            processedPhrase[2], processedPhrase[3],\n",
    "                                                              processedPhrase[4])\n",
    "        #insert processed documents\n",
    "        cursor.execute(sql)\n",
    "        #print('inserted row')\n",
    "    print('inserted ', row,  ' rows into processed_phrases table')\n",
    "    \n",
    "    ##     \n",
    "#     #phraseid, sentenceid, rowid, sentiment, sent score\n",
    "#     processedPhrase = fetch[0][0:1] + fetch[0][1:2] + fetch[0][3:4] + sentiment\n",
    "#     #print('processed insert ', processedPhrase)\n",
    "    #\n",
    "\n",
    "except (Exception, psycopg2.DatabaseError) as error :\n",
    "    print (\"Error while creating PostgreSQL table\", error)\n",
    "finally:\n",
    "    #closing database connection.\n",
    "        if(connection):\n",
    "            cursor.close()\n",
    "            connection.close()\n",
    "            print(\"PostgreSQL connection is closed\")"
   ]
  }
 ],
 "metadata": {
  "kernelspec": {
   "display_name": "Python 3",
   "language": "python",
   "name": "python3"
  },
  "language_info": {
   "codemirror_mode": {
    "name": "ipython",
    "version": 3
   },
   "file_extension": ".py",
   "mimetype": "text/x-python",
   "name": "python",
   "nbconvert_exporter": "python",
   "pygments_lexer": "ipython3",
   "version": "3.6.3"
  }
 },
 "nbformat": 4,
 "nbformat_minor": 2
}
